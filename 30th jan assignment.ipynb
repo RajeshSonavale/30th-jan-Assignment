{
 "cells": [
  {
   "cell_type": "code",
   "execution_count": 2,
   "id": "ab8c6ea9-98ff-410c-b4fc-163d91156772",
   "metadata": {},
   "outputs": [],
   "source": [
    "                               # 30th JANUARY ASSIGNMENT"
   ]
  },
  {
   "cell_type": "code",
   "execution_count": 2,
   "id": "5d8e64c7-da51-4795-b091-c5e2b81a6575",
   "metadata": {},
   "outputs": [
    {
     "name": "stdin",
     "output_type": "stream",
     "text": [
      "Enter your percentage 75\n"
     ]
    },
    {
     "name": "stdout",
     "output_type": "stream",
     "text": [
      "your grade is C\n"
     ]
    }
   ],
   "source": [
    "#Q1 Ans: \n",
    "percentage = int(input (\"Enter your percentage\"))\n",
    "if percentage > 90:\n",
    "    print(\"Your grade is A\")\n",
    "elif percentage >80 and percentage<=90:\n",
    "    print(\"your grade is B\")\n",
    "elif percentage >=60 and percentage<=80:\n",
    "    print (\"your grade is C\")\n",
    "else:\n",
    "    print(\"your grade is D\")"
   ]
  },
  {
   "cell_type": "code",
   "execution_count": 5,
   "id": "4cf7aaae-b777-4876-83bd-81562638b1f0",
   "metadata": {},
   "outputs": [
    {
     "name": "stdin",
     "output_type": "stream",
     "text": [
      "Enter your Bike Cost Price 78000\n"
     ]
    },
    {
     "name": "stdout",
     "output_type": "stream",
     "text": [
      "7800.0\n"
     ]
    }
   ],
   "source": [
    "#Q2 Ans:\n",
    "cp=int(input(\"Enter your Bike Cost Price\"))\n",
    "if cp>100000:\n",
    "    RoadTax = cp*15/100\n",
    "    print(RoadTax)\n",
    "elif cp>50000 and cp<=100000:\n",
    "    RoadTax = cp*10/100\n",
    "    print(RoadTax)\n",
    "else:\n",
    "    RoadTax= cp*5/100\n",
    "    print(RoadTax)"
   ]
  },
  {
   "cell_type": "code",
   "execution_count": 9,
   "id": "cb3fc201-d7ed-40ee-89d3-589e5110be24",
   "metadata": {},
   "outputs": [
    {
     "name": "stdin",
     "output_type": "stream",
     "text": [
      "Enter Your City: Jaipur\n"
     ]
    },
    {
     "name": "stdout",
     "output_type": "stream",
     "text": [
      "Jai Mahal\n"
     ]
    }
   ],
   "source": [
    "#Q3 Ans:\n",
    "city=input(\"Enter Your City:\")\n",
    "if city==\"Delhi\":\n",
    "    print(\"Red Fort\")\n",
    "elif city == \"Agra\":\n",
    "    print(\"Taj Mahal\")\n",
    "elif city==\"Jaipur\":\n",
    "    print(\"Jai Mahal\")"
   ]
  },
  {
   "cell_type": "code",
   "execution_count": 2,
   "id": "ddf2087e-1943-44f0-97d3-f7c01530815f",
   "metadata": {},
   "outputs": [
    {
     "name": "stdin",
     "output_type": "stream",
     "text": [
      "Enter a Number 27\n"
     ]
    },
    {
     "name": "stdout",
     "output_type": "stream",
     "text": [
      "6\n"
     ]
    }
   ],
   "source": [
    "#Q4 Ans:\n",
    "n=int(input(\"Enter a Number\"))\n",
    "count=0\n",
    "while(n>10):\n",
    "    a=n/3\n",
    "    n=n-3\n",
    "    count=count+1\n",
    "print(count)"
   ]
  },
  {
   "cell_type": "code",
   "execution_count": null,
   "id": "500358df-a097-413f-a516-e315dd41113d",
   "metadata": {},
   "outputs": [],
   "source": [
    "#Q5 Ans:\n",
    " # Python while loop use to run a block code until a certain condtion met.\n",
    "#Example: program to display numbers from 1 to 5\n",
    "i=1\n",
    "n=5\n",
    "while i<=n:\n",
    "    print(i)\n",
    "    i=i+1\n",
    "#explination:\n",
    "#i=1    true    1 is printed    i is increased to 2\n",
    "#i=2    true    2is Pirnted     i is increased to 3\n",
    "#i=3    true   3 is printed     i is increased to 4\n",
    "#i=4    true   4 is printed     i is increased to 5\n",
    "#i=5    true   5 is printed     i is increased to 6\n",
    "# i=6   false   loop is terminated\n"
   ]
  },
  {
   "cell_type": "code",
   "execution_count": 3,
   "id": "8e16ab23-81c1-4b3e-a3f3-b2bea23281e6",
   "metadata": {},
   "outputs": [
    {
     "name": "stdin",
     "output_type": "stream",
     "text": [
      "enter number of rows:  4\n"
     ]
    },
    {
     "name": "stdout",
     "output_type": "stream",
     "text": [
      "*\n",
      "**\n",
      "***\n",
      "****\n"
     ]
    }
   ],
   "source": [
    "#Q6 Ans:\n",
    "#1) python program to print Right Tringle using while loop\n",
    "n= int(input(\"enter number of rows: \"))\n",
    "i=1\n",
    "while i<=n:\n",
    "    j=1\n",
    "    while j<=i:\n",
    "        print(\"*\",end=\"\")\n",
    "        j=j+1\n",
    "    print()\n",
    "    i+=1\n"
   ]
  },
  {
   "cell_type": "code",
   "execution_count": 4,
   "id": "44cb8af6-6848-4913-ab99-1cd9dd9a538f",
   "metadata": {},
   "outputs": [
    {
     "name": "stdin",
     "output_type": "stream",
     "text": [
      "enter number of rows:  4\n"
     ]
    },
    {
     "name": "stdout",
     "output_type": "stream",
     "text": [
      "****\n",
      "***\n",
      "**\n",
      "*\n"
     ]
    }
   ],
   "source": [
    "#Q6 Ans:\n",
    "#2) python program to print inverted Right Tringle using while loop\n",
    "n= int(input(\"enter number of rows: \"))\n",
    "i=1\n",
    "while i<=n:\n",
    "    j=n\n",
    "    while j>=i:\n",
    "        print(\"*\",end=\"\")\n",
    "        j=j-1\n",
    "    print()\n",
    "    i+=1\n"
   ]
  },
  {
   "cell_type": "code",
   "execution_count": 5,
   "id": "fbbb97e8-3dcb-4657-9893-d5cd0ad036dd",
   "metadata": {},
   "outputs": [
    {
     "name": "stdin",
     "output_type": "stream",
     "text": [
      "enter number of rows 4\n"
     ]
    },
    {
     "name": "stdout",
     "output_type": "stream",
     "text": [
      "  1\n",
      "  2  3\n",
      "  4  5  6\n",
      "  7  8  9 10\n"
     ]
    }
   ],
   "source": [
    "#Q6 3)\n",
    "n=int(input(\"enter number of rows\"))\n",
    "k=1\n",
    "i=1\n",
    "while i<=n:\n",
    "    j=1\n",
    "    while j<=i:\n",
    "        print(\"{:3d}\".format(k),end=\"\")\n",
    "        j=j+1\n",
    "        k=k+1\n",
    "    print()\n",
    "    i=i+1"
   ]
  },
  {
   "cell_type": "code",
   "execution_count": 3,
   "id": "0b3cdf6f-c9c1-4b63-bbc2-4e992d7899bb",
   "metadata": {},
   "outputs": [
    {
     "name": "stdout",
     "output_type": "stream",
     "text": [
      "10\n",
      "9\n",
      "8\n",
      "7\n",
      "6\n",
      "5\n",
      "4\n",
      "3\n",
      "2\n",
      "1\n"
     ]
    }
   ],
   "source": [
    "#Q7 Ans:\n",
    "i=10\n",
    "while i>=1:\n",
    "    print(i)\n",
    "    i=i-1"
   ]
  },
  {
   "cell_type": "code",
   "execution_count": 4,
   "id": "f4e9cd99-2264-4b90-ac1d-3562777902bb",
   "metadata": {},
   "outputs": [
    {
     "name": "stdout",
     "output_type": "stream",
     "text": [
      "1\n",
      "2\n",
      "3\n",
      "4\n",
      "5\n",
      "6\n",
      "7\n",
      "8\n",
      "9\n",
      "10\n"
     ]
    }
   ],
   "source": [
    "#Q10:\n",
    "i=1\n",
    "while i<=10:\n",
    "    print(i)\n",
    "    i=i+1"
   ]
  },
  {
   "cell_type": "code",
   "execution_count": null,
   "id": "9c322c16-76e3-40e6-950a-5d27c4bd2cd1",
   "metadata": {},
   "outputs": [],
   "source": []
  }
 ],
 "metadata": {
  "kernelspec": {
   "display_name": "Python 3 (ipykernel)",
   "language": "python",
   "name": "python3"
  },
  "language_info": {
   "codemirror_mode": {
    "name": "ipython",
    "version": 3
   },
   "file_extension": ".py",
   "mimetype": "text/x-python",
   "name": "python",
   "nbconvert_exporter": "python",
   "pygments_lexer": "ipython3",
   "version": "3.10.6"
  }
 },
 "nbformat": 4,
 "nbformat_minor": 5
}
